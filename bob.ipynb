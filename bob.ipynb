{
  "cells": [
    {
      "cell_type": "markdown",
      "source": [
        "# Bob\n",
        "\n",
        "Bob is a lackadaisical teenager. In conversation, his responses are very limited.\n",
        "\n",
        "Bob answers 'Sure.' if you ask him a question, such as \"How are you?\".\n",
        "\n",
        "He answers 'Whoa, chill out!' if you YELL AT HIM (in all capitals).\n",
        "\n",
        "He answers 'Calm down, I know what I'm doing!' if you yell a question at him.\n",
        "\n",
        "He says 'Fine. Be that way!' if you address him without actually saying\n",
        "anything.\n",
        "\n",
        "He answers 'Whatever.' to anything else.\n",
        "\n",
        "Bob's conversational partner is a purist when it comes to written communication and always follows normal rules regarding sentence punctuation in English.\n",
        "\n",
        "## Source\n",
        "\n",
        "Inspired by the 'Deaf Grandma' exercise in Chris Pine's Learn to Program tutorial. [http://pine.fm/LearnToProgram/?Chapter=06](http://pine.fm/LearnToProgram/?Chapter=06)\n",
        "\n",
        "## Version compatibility\n",
        "This exercise has been tested on Julia versions >=1.0.\n",
        "\n",
        "## Submitting Incomplete Solutions\n",
        "It's possible to submit an incomplete solution so you can see how others have completed the exercise."
      ],
      "metadata": {}
    },
    {
      "cell_type": "markdown",
      "source": [
        "## Your solution"
      ],
      "metadata": {}
    },
    {
      "cell_type": "code",
      "source": [
        "string=\"I AM SHOUTING.\"\n",
        "\n",
        "all(isuppercase(s) for s in string)\n",
        "[isuppercase(s) for s in string]\n",
        "\n",
        "function isenglish(input)\n",
        "  isascii(input)\n",
        "end\n",
        "\n",
        "println(filter(s -> ispunct(s),string))\n",
        "filter(s -> isletter(s),string)\n",
        "\n",
        "#Strip whitespace\n",
        "strip(string)\n",
        "\n"
      ],
      "outputs": [
        {
          "output_type": "stream",
          "name": "stdout",
          "text": [
            ".\n"
          ]
        },
        {
          "output_type": "execute_result",
          "execution_count": 11,
          "data": {
            "text/plain": "\"I AM SHOUTING.\""
          },
          "metadata": {}
        }
      ],
      "execution_count": 11,
      "metadata": {
        "collapsed": true,
        "jupyter": {
          "source_hidden": false,
          "outputs_hidden": false
        },
        "nteract": {
          "transient": {
            "deleting": false
          }
        },
        "execution": {
          "iopub.status.busy": "2020-09-10T08:15:10.507Z",
          "iopub.execute_input": "2020-09-10T08:15:10.513Z",
          "iopub.status.idle": "2020-09-10T08:15:10.822Z"
        }
      }
    },
    {
      "cell_type": "code",
      "source": [
        "#Yell detection function\n",
        "string=\"I AM SHOUTING    \"\n",
        "stringtest=\"yo dude \"\n",
        "\n",
        "function isyell(input)\n",
        "    #println(filter(s -> isletter(s),input))\n",
        "    all(c->isuppercase(c),filter(s -> isletter(s),input))\n",
        "end\n",
        "\n",
        "println(isyell(string))\n",
        "println(isyell(stringtest))"
      ],
      "outputs": [
        {
          "output_type": "stream",
          "name": "stdout",
          "text": [
            "IAMSHOUTING\n",
            "true\n",
            "yodude\n",
            "false\n"
          ]
        },
        {
          "output_type": "execute_result",
          "execution_count": 57,
          "data": {
            "text/plain": "false"
          },
          "metadata": {}
        }
      ],
      "execution_count": 57,
      "metadata": {
        "collapsed": true,
        "jupyter": {
          "source_hidden": false,
          "outputs_hidden": false
        },
        "nteract": {
          "transient": {
            "deleting": false
          }
        },
        "execution": {
          "iopub.status.busy": "2020-09-10T08:29:54.864Z",
          "iopub.execute_input": "2020-09-10T08:29:54.871Z",
          "iopub.status.idle": "2020-09-10T08:29:54.940Z"
        }
      }
    },
    {
      "cell_type": "code",
      "source": [
        "#Question detection function\n",
        "function isquestion(input)\n",
        "  println(rstrip(input)[end])\n",
        "  rstrip(input)[end] == '?'\n",
        "end\n",
        "\n",
        "string=\"Is this is a question?\"\n",
        "string2=\"Not a question, sadly              .\"\n",
        "isquestion(string)\n",
        "isquestion(string)\n"
      ],
      "outputs": [
        {
          "output_type": "stream",
          "name": "stdout",
          "text": [
            "?\n",
            "?\n"
          ]
        },
        {
          "output_type": "execute_result",
          "execution_count": 72,
          "data": {
            "text/plain": "true"
          },
          "metadata": {}
        }
      ],
      "execution_count": 72,
      "metadata": {
        "collapsed": true,
        "jupyter": {
          "source_hidden": false,
          "outputs_hidden": false
        },
        "nteract": {
          "transient": {
            "deleting": false
          }
        },
        "execution": {
          "iopub.status.busy": "2020-09-10T08:35:28.542Z",
          "iopub.execute_input": "2020-09-10T08:35:28.546Z",
          "iopub.status.idle": "2020-09-10T08:35:28.556Z"
        }
      }
    },
    {
      "cell_type": "code",
      "source": [],
      "outputs": [
        {
          "output_type": "execute_result",
          "execution_count": 57,
          "data": {
            "text/plain": "isyellquestion (generic function with 1 method)"
          },
          "metadata": {}
        }
      ],
      "execution_count": 57,
      "metadata": {
        "collapsed": true,
        "jupyter": {
          "source_hidden": false,
          "outputs_hidden": false
        },
        "nteract": {
          "transient": {
            "deleting": false
          }
        },
        "execution": {
          "iopub.status.busy": "2020-09-11T07:53:48.355Z",
          "iopub.execute_input": "2020-09-11T07:53:48.361Z",
          "iopub.status.idle": "2020-09-11T07:53:48.434Z"
        }
      }
    },
    {
      "cell_type": "code",
      "source": [
        "#Silence detection function\n",
        "function issilence(input)\n",
        "  all(c->isspace(c),input)\n",
        "end\n",
        "\n",
        "string=\"Lots of noise.\"\n",
        "string2=\"               \"\n",
        "string3=\"\\t\\t\\t\\t\\t\\t\\t\\t\\t\\t\"\n",
        "\n",
        "println(issilence(string))\n",
        "println(issilence(string2))\n",
        "println(issilence(string3))\n"
      ],
      "outputs": [
        {
          "output_type": "stream",
          "name": "stdout",
          "text": [
            "false\n",
            "true\n",
            "true\n"
          ]
        }
      ],
      "execution_count": 77,
      "metadata": {
        "collapsed": true,
        "jupyter": {
          "source_hidden": false,
          "outputs_hidden": false
        },
        "nteract": {
          "transient": {
            "deleting": false
          }
        },
        "execution": {
          "iopub.status.busy": "2020-09-10T08:39:19.046Z",
          "iopub.execute_input": "2020-09-10T08:39:19.053Z",
          "iopub.status.idle": "2020-09-10T08:39:19.064Z"
        }
      }
    },
    {
      "cell_type": "code",
      "source": [
        "# submit\n",
        "function issilence(input)\n",
        "  all(c->isspace(c),input)\n",
        "end\n",
        "\n",
        "function isquestion(input)\n",
        "  rstrip(input)[end] == '?'\n",
        "end\n",
        "\n",
        "function isyell(input)\n",
        "  #Add a fake lowercase string at the end to avoid having an empty string which would evaluate to true\n",
        "    filter_input=filter(s -> isletter(s),input)\n",
        "    isempty(filter_input) ? false : all(c->isuppercase(c),filter_input)\n",
        "end\n",
        "\n",
        "function bob(stimulus)\n",
        "    if issilence(stimulus)\n",
        "       return \"Fine. Be that way!\"\n",
        "    else\n",
        "       bool_ques=isquestion(stimulus) \n",
        "       bool_yell=isyell(stimulus)\n",
        "       \n",
        "       if bool_ques && bool_yell\n",
        "        return \"Calm down, I know what I'm doing!\"\n",
        "       elseif bool_ques\n",
        "        return \"Sure.\"\n",
        "      \n",
        "       elseif bool_yell\n",
        "        return \"Whoa, chill out!\"\n",
        "      \n",
        "       else\n",
        "        return \"Whatever.\"\n",
        "       end\n",
        "    \n",
        "    end\n",
        " end"
      ],
      "outputs": [
        {
          "output_type": "execute_result",
          "execution_count": 63,
          "data": {
            "text/plain": "bob (generic function with 1 method)"
          },
          "metadata": {}
        }
      ],
      "execution_count": 63,
      "metadata": {
        "execution": {
          "iopub.status.busy": "2020-09-11T08:02:07.721Z",
          "iopub.execute_input": "2020-09-11T08:02:07.728Z",
          "iopub.status.idle": "2020-09-11T08:02:07.741Z"
        }
      }
    },
    {
      "cell_type": "code",
      "source": [
        "\n",
        "\n",
        "filter(s -> isletter(s),\"1, 2, 3, g\")\n",
        "\n",
        "all(c->isuppercase(c),filter(s -> isletter(s),\"1, 2, 3\"))\n",
        "\n",
        "isempty(\"\")\n",
        "filter(s -> isletter(s),\"1, 2, 3\")==\"\"\n",
        "\n",
        "isempty(filter(s -> isletter(s),\"1, 2, 3\"))\n",
        "isyell(\"1, 2, 3\")"
      ],
      "outputs": [
        {
          "output_type": "stream",
          "name": "stdout",
          "text": [
            "\n"
          ]
        },
        {
          "output_type": "execute_result",
          "execution_count": 55,
          "data": {
            "text/plain": "false"
          },
          "metadata": {}
        }
      ],
      "execution_count": 55,
      "metadata": {
        "collapsed": true,
        "jupyter": {
          "source_hidden": false,
          "outputs_hidden": false
        },
        "nteract": {
          "transient": {
            "deleting": false
          }
        },
        "execution": {
          "iopub.status.busy": "2020-09-11T07:48:54.226Z",
          "iopub.execute_input": "2020-09-11T07:48:54.232Z",
          "iopub.status.idle": "2020-09-11T07:48:54.342Z"
        }
      }
    },
    {
      "cell_type": "markdown",
      "source": [
        "## Test suite"
      ],
      "metadata": {}
    },
    {
      "cell_type": "code",
      "source": [
        "# canonical data version: 1.4.0\n",
        "\n",
        "using Test\n",
        "\n",
        "# include(\"bob.jl\")\n",
        "\n",
        "questions = (\n",
        "        \"Does this cryogenic chamber make me look fat?\",\n",
        "        \"You are, what, like 15?\",\n",
        "        \"fffbbcbeab?\",\n",
        "        \"4?\", \":) ?\",\n",
        "        \"Wait! Hang on. Are you going to be OK?\",\n",
        "        \"Okay if like my  spacebar  quite a bit?   \",\n",
        ")\n",
        "\n",
        "yells = (\n",
        "        \"WATCH OUT!\",\n",
        "        \"FCECDFCAAB\",\n",
        "        \"1, 2, 3 GO!\",\n",
        "        \"ZOMG THE %^*@#\\$(*^ ZOMBIES ARE COMING!!11!!1!\",\n",
        "        \"I HATE YOU\",\n",
        ")\n",
        "\n",
        "silences = (\n",
        "        \"\",\n",
        "        \"          \",\n",
        "        \"\\t\\t\\t\\t\\t\\t\\t\\t\\t\\t\",\n",
        "        \"\\n\\r \\t\",\n",
        ")\n",
        "\n",
        "miscs = (\n",
        "        \"Tom-ay-to, tom-aaaah-to.\",\n",
        "        \"Let's go make out behind the gym!\",\n",
        "        \"It's OK if you don't want to go to the DMV.\",\n",
        "        \"1, 2, 3\",\n",
        "        \"Ending with ? means a question.\",\n",
        "        \"\\nDoes this cryogenic chamber make me look fat?\\nno\",\n",
        "        \"         hmmmmmmm...\",\n",
        "        \"This is a statement ending with whitespace      \",\n",
        ")\n",
        "\n",
        "response = Dict(\n",
        "        :question => \"Sure.\",\n",
        "        :yelling => \"Whoa, chill out!\",\n",
        "        :silence => \"Fine. Be that way!\",\n",
        "        :misc => \"Whatever.\"\n",
        ")\n",
        "\n",
        "@testset \"questions\" begin\n",
        "    @testset \"$question\" for question in questions\n",
        "        @test bob(question) == response[:question]\n",
        "    end\n",
        "end\n",
        "\n",
        "@testset \"yelling\" begin\n",
        "    @testset \"$yell\" for yell in yells\n",
        "        @test bob(yell) == response[:yelling]\n",
        "    end\n",
        "end\n",
        "\n",
        "@testset \"silence\" begin\n",
        "    @testset \"$silence\" for silence in silences\n",
        "        @test bob(silence) == response[:silence]\n",
        "    end\n",
        "end\n",
        "\n",
        "@testset \"misc\" begin\n",
        "    @testset \"$misc\" for misc in miscs\n",
        "        @test bob(misc) == response[:misc]\n",
        "    end\n",
        "end\n",
        "\n",
        "@testset \"forceful question\" begin\n",
        "    @test bob(\"WHAT THE HELL WERE YOU THINKING?\") == \"Calm down, I know what I'm doing!\"\n",
        "end"
      ],
      "outputs": [
        {
          "output_type": "stream",
          "name": "stdout",
          "text": [
            "Doesthiscryogenicchambermakemelookfat\n",
            "Youarewhatlike\n",
            "fffbbcbeab\n",
            "\n",
            "\n",
            "WaitHangonAreyougoingtobeOK\n",
            "Okayiflikemyspacebarquiteabit\n",
            "\u001b[37m\u001b[1mTest Summary: | \u001b[22m\u001b[39m\u001b[32m\u001b[1mPass  \u001b[22m\u001b[39m\u001b[36m\u001b[1mTotal\u001b[22m\u001b[39m\n",
            "questions     | \u001b[32m   7  \u001b[39m\u001b[36m    7\u001b[39m\n",
            "WATCHOUT\n",
            "FCECDFCAAB\n",
            "GO\n",
            "ZOMGTHEZOMBIESARECOMING\n",
            "IHATEYOU\n",
            "\u001b[37m\u001b[1mTest Summary: | \u001b[22m\u001b[39m\u001b[32m\u001b[1mPass  \u001b[22m\u001b[39m\u001b[36m\u001b[1mTotal\u001b[22m\u001b[39m\n",
            "yelling       | \u001b[32m   5  \u001b[39m\u001b[36m    5\u001b[39m\n",
            "\u001b[37m\u001b[1mTest Summary: | \u001b[22m\u001b[39m\u001b[32m\u001b[1mPass  \u001b[22m\u001b[39m\u001b[36m\u001b[1mTotal\u001b[22m\u001b[39m\n",
            "silence       | \u001b[32m   4  \u001b[39m\u001b[36m    4\u001b[39m\n",
            "Tomaytotomaaaahto\n",
            "Letsgomakeoutbehindthegym\n",
            "ItsOKifyoudontwanttogototheDMV\n",
            "\n",
            "Endingwithmeansaquestion\n",
            "Doesthiscryogenicchambermakemelookfatno\n",
            "hmmmmmmm\n",
            "Thisisastatementendingwithwhitespace\n",
            "\u001b[37m\u001b[1mTest Summary: | \u001b[22m\u001b[39m\u001b[32m\u001b[1mPass  \u001b[22m\u001b[39m\u001b[36m\u001b[1mTotal\u001b[22m\u001b[39m\n",
            "misc          | \u001b[32m   8  \u001b[39m\u001b[36m    8\u001b[39m\n",
            "WHATTHEHELLWEREYOUTHINKING\n",
            "\u001b[37m\u001b[1mTest Summary:     | \u001b[22m\u001b[39m\u001b[32m\u001b[1mPass  \u001b[22m\u001b[39m\u001b[36m\u001b[1mTotal\u001b[22m\u001b[39m\n",
            "forceful question | \u001b[32m   1  \u001b[39m\u001b[36m    1\u001b[39m\n"
          ]
        },
        {
          "output_type": "execute_result",
          "execution_count": 59,
          "data": {
            "text/plain": "Test.DefaultTestSet(\"forceful question\", Any[], 1, false)"
          },
          "metadata": {}
        }
      ],
      "execution_count": 59,
      "metadata": {
        "execution": {
          "iopub.status.busy": "2020-09-11T07:58:20.116Z",
          "iopub.execute_input": "2020-09-11T07:58:20.123Z",
          "iopub.status.idle": "2020-09-11T07:58:20.735Z"
        }
      }
    },
    {
      "cell_type": "markdown",
      "source": [
        "## Prepare submission\n",
        "To submit your exercise, you need to save your solution in a file called `bob.jl` before using the CLI.\n",
        "You can either create it manually or use the following functions, which will automatically write every notebook cell that starts with `# submit` to the file `bob.jl`.\n"
      ],
      "metadata": {}
    },
    {
      "cell_type": "code",
      "source": [
        "using Pkg; Pkg.add(\"Exercism\")\n",
        "using Exercism\n",
        "Exercism.create_submission(\"bob\")"
      ],
      "outputs": [
        {
          "output_type": "stream",
          "name": "stderr",
          "text": [
            "\u001b[32m\u001b[1m  Resolving\u001b[22m\u001b[39m package versions...\n",
            "\u001b[32m\u001b[1mNo Changes\u001b[22m\u001b[39m to `~/.julia/environments/v1.5/Project.toml`\n",
            "\u001b[32m\u001b[1mNo Changes\u001b[22m\u001b[39m to `~/.julia/environments/v1.5/Manifest.toml`\n"
          ]
        },
        {
          "output_type": "execute_result",
          "execution_count": 64,
          "data": {
            "text/plain": "814"
          },
          "metadata": {}
        }
      ],
      "execution_count": 64,
      "metadata": {
        "execution": {
          "iopub.status.busy": "2020-09-11T08:02:15.593Z",
          "iopub.execute_input": "2020-09-11T08:02:15.600Z",
          "iopub.status.idle": "2020-09-11T08:02:15.735Z"
        }
      }
    }
  ],
  "metadata": {
    "kernelspec": {
      "display_name": "Julia 1.3.0",
      "language": "julia",
      "name": "julia-1.3"
    },
    "language_info": {
      "file_extension": ".jl",
      "name": "julia",
      "mimetype": "application/julia",
      "version": "1.5.0"
    },
    "nteract": {
      "version": "0.25.0"
    }
  },
  "nbformat": 4,
  "nbformat_minor": 2
}